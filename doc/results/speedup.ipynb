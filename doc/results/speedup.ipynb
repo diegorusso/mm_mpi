{
 "cells": [
  {
   "cell_type": "code",
   "execution_count": 1,
   "metadata": {
    "collapsed": true
   },
   "outputs": [],
   "source": [
    "import csv\n",
    "from os import listdir\n",
    "from os.path import isfile, join\n",
    "import matplotlib.pyplot as plt\n",
    "import matplotlib\n",
    "\n",
    "mypath = '.'\n",
    "serial_file = 'x.mm_serial'\n",
    "num_proc = 16"
   ]
  },
  {
   "cell_type": "code",
   "execution_count": 2,
   "metadata": {
    "collapsed": false
   },
   "outputs": [],
   "source": [
    "def speedup_eff(serial_file, parallel_file):\n",
    "    serial = []\n",
    "    parallel = []\n",
    "    sizes = []\n",
    "    speedups = []\n",
    "    \n",
    "    with open(join(mypath, serial_file), 'rb') as csvfile:\n",
    "        reader = csv.reader(csvfile, delimiter='|')\n",
    "        for row in reader:\n",
    "            size = int(row[0])\n",
    "            sizes.append(size)\n",
    "            time = float(row[1])\n",
    "            serial.append(time)\n",
    "        \n",
    "    with open(join(mypath, parallel_file), 'rb') as csvfile:\n",
    "        reader = csv.reader(csvfile, delimiter='|')\n",
    "        for row in reader:\n",
    "            time = float(row[1])\n",
    "            parallel.append(time)\n",
    "    \n",
    "    print \"size| serial time|  paral time|     speedup|  efficiency\"\n",
    "    print \"--------------------------------------------------------\"\n",
    "    for item in zip(sizes, serial, parallel):\n",
    "        size = item[0]\n",
    "        serial_time = item[1]\n",
    "        parallel_time = item[2]\n",
    "        speedup = serial_time/parallel_time\n",
    "        speedups.append(speedup)\n",
    "        eff = speedup/num_proc\n",
    "        print \"{:>4}|{:>12}|{:>12}|{:12.4f}|{:12.4f}\".format(item[0], item[1], item[2], speedup, eff)\n",
    "    \n",
    "    plt.plot(sizes, speedups, lw=2, marker='o')\n",
    "    plt.title(\"Speedup: {} vs {}\".format(serial_file, parallel_file))\n",
    "    plt.xlabel('size')\n",
    "    plt.ylabel('speedup')\n",
    "    plt.grid(True)\n",
    "    plt.show()"
   ]
  },
  {
   "cell_type": "code",
   "execution_count": 3,
   "metadata": {
    "collapsed": false
   },
   "outputs": [
    {
     "name": "stdout",
     "output_type": "stream",
     "text": [
      "size| serial time|  paral time|     speedup|  efficiency\n",
      "--------------------------------------------------------\n",
      "   4|         0.0|      0.0247|      0.0000|      0.0000\n",
      "   8|         0.0|      0.0138|      0.0000|      0.0000\n",
      "  16|         0.0|      0.0083|      0.0000|      0.0000\n",
      "  32|      0.0001|      0.0057|      0.0175|      0.0011\n",
      "  64|      0.0006|      0.0054|      0.1111|      0.0069\n",
      " 128|      0.0045|      0.0073|      0.6164|      0.0385\n",
      " 192|      0.0163|      0.0131|      1.2443|      0.0778\n",
      " 256|      0.0409|      0.0233|      1.7554|      0.1097\n",
      " 384|      0.1301|      0.0514|      2.5311|      0.1582\n",
      " 512|      0.3523|      0.3167|      1.1124|      0.0695\n",
      " 768|       1.208|      0.6362|      1.8988|      0.1187\n",
      "1024|      3.1203|      8.8529|      0.3525|      0.0220\n",
      "1536|     11.0251|     25.2136|      0.4373|      0.0273\n",
      "2048|     27.9096|    103.0118|      0.2709|      0.0169\n",
      "3072|     89.7327|    353.7942|      0.2536|      0.0159\n",
      "4096|    222.7798|    875.8602|      0.2544|      0.0159\n"
     ]
    }
   ],
   "source": [
    "speedup_eff(serial_file, 'x.mm_2D_cannon.o2295')"
   ]
  },
  {
   "cell_type": "code",
   "execution_count": 6,
   "metadata": {
    "collapsed": false
   },
   "outputs": [
    {
     "name": "stdout",
     "output_type": "stream",
     "text": [
      "size| serial time|  paral time|     speedup|  efficiency\n",
      "--------------------------------------------------------\n",
      "   4|         0.0|      0.0017|      0.0000|      0.0000\n",
      "   8|         0.0|      0.0021|      0.0000|      0.0000\n",
      "  16|         0.0|      0.0023|      0.0000|      0.0000\n",
      "  32|      0.0001|      0.0026|      0.0385|      0.0024\n",
      "  64|      0.0006|      0.0035|      0.1714|      0.0107\n",
      " 128|      0.0045|      0.0063|      0.7143|      0.0446\n",
      " 192|      0.0163|      0.0118|      1.3814|      0.0863\n",
      " 256|      0.0409|      0.0211|      1.9384|      0.1211\n",
      " 384|      0.1301|      0.0482|      2.6992|      0.1687\n",
      " 512|      0.3523|      0.1109|      3.1767|      0.1985\n",
      " 768|       1.208|      0.5203|      2.3217|      0.1451\n",
      "1024|      3.1203|      8.7743|      0.3556|      0.0222\n",
      "1536|     11.0251|     25.3017|      0.4357|      0.0272\n",
      "2048|     27.9096|    102.1089|      0.2733|      0.0171\n",
      "3072|     89.7327|     358.164|      0.2505|      0.0157\n",
      "4096|    222.7798|    892.7144|      0.2496|      0.0156\n"
     ]
    }
   ],
   "source": [
    "speedup_eff(serial_file, 'x.mm_2D_cannon_nonblock.o2297')"
   ]
  },
  {
   "cell_type": "code",
   "execution_count": 4,
   "metadata": {
    "collapsed": false
   },
   "outputs": [
    {
     "name": "stdout",
     "output_type": "stream",
     "text": [
      "size| serial time|  paral time|     speedup|  efficiency\n",
      "--------------------------------------------------------\n",
      "   4|         0.0|      0.0019|      0.0000|      0.0000\n",
      "   8|         0.0|      0.0022|      0.0000|      0.0000\n",
      "  16|         0.0|      0.0024|      0.0000|      0.0000\n",
      "  32|      0.0001|      0.0025|      0.0400|      0.0025\n",
      "  64|      0.0006|      0.0034|      0.1765|      0.0110\n",
      " 128|      0.0045|      0.0062|      0.7258|      0.0454\n",
      " 192|      0.0163|      0.0119|      1.3697|      0.0856\n",
      " 256|      0.0409|      0.0218|      1.8761|      0.1173\n",
      " 384|      0.1301|      0.0506|      2.5711|      0.1607\n",
      " 512|      0.3523|      0.1089|      3.2351|      0.2022\n",
      " 768|       1.208|      0.3666|      3.2951|      0.2059\n",
      "1024|      3.1203|      0.9924|      3.1442|      0.1965\n",
      "1536|     11.0251|      3.0139|      3.6581|      0.2286\n",
      "2048|     27.9096|      7.1668|      3.8943|      0.2434\n",
      "3072|     89.7327|     21.6833|      4.1383|      0.2586\n",
      "4096|    222.7798|      52.736|      4.2244|      0.2640\n"
     ]
    }
   ],
   "source": [
    "speedup_eff(serial_file, 'x.mm_2D_cannon_nonblock_openmp_outer.o2302')"
   ]
  },
  {
   "cell_type": "code",
   "execution_count": 5,
   "metadata": {
    "collapsed": false
   },
   "outputs": [
    {
     "name": "stdout",
     "output_type": "stream",
     "text": [
      "size| serial time|  paral time|     speedup|  efficiency\n",
      "--------------------------------------------------------\n",
      "   4|         0.0|      0.0018|      0.0000|      0.0000\n",
      "   8|         0.0|      0.0217|      0.0000|      0.0000\n",
      "  16|         0.0|      0.0124|      0.0000|      0.0000\n",
      "  32|      0.0001|      0.0076|      0.0132|      0.0008\n",
      "  64|      0.0006|      0.0059|      0.1017|      0.0064\n",
      " 128|      0.0045|      0.0076|      0.5921|      0.0370\n",
      " 192|      0.0163|      0.0133|      1.2256|      0.0766\n",
      " 256|      0.0409|      0.0224|      1.8259|      0.1141\n",
      " 384|      0.1301|      0.0445|      2.9236|      0.1827\n",
      " 512|      0.3523|      0.0877|      4.0171|      0.2511\n",
      " 768|       1.208|      0.1907|      6.3346|      0.3959\n",
      "1024|      3.1203|      0.3869|      8.0649|      0.5041\n",
      "1536|     11.0251|      0.9971|     11.0572|      0.6911\n",
      "2048|     27.9096|      2.0202|     13.8153|      0.8635\n",
      "3072|     89.7327|      5.3102|     16.8982|      1.0561\n",
      "4096|    222.7798|     10.9267|     20.3886|      1.2743\n"
     ]
    }
   ],
   "source": [
    "speedup_eff(serial_file, 'x.mm_2D_cannon_nonblock_cblas.o2298')"
   ]
  },
  {
   "cell_type": "code",
   "execution_count": null,
   "metadata": {
    "collapsed": true
   },
   "outputs": [],
   "source": []
  }
 ],
 "metadata": {
  "kernelspec": {
   "display_name": "Python 2",
   "language": "python",
   "name": "python2"
  },
  "language_info": {
   "codemirror_mode": {
    "name": "ipython",
    "version": 2
   },
   "file_extension": ".py",
   "mimetype": "text/x-python",
   "name": "python",
   "nbconvert_exporter": "python",
   "pygments_lexer": "ipython2",
   "version": "2.7.10"
  }
 },
 "nbformat": 4,
 "nbformat_minor": 0
}
